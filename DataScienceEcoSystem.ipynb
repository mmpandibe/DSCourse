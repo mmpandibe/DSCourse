{
 "cells": [
  {
   "cell_type": "markdown",
   "id": "0224b731-cb17-41b0-8d13-716e1c59661d",
   "metadata": {},
   "source": [
    "# Final Assignment in Tools for Science course"
   ]
  },
  {
   "cell_type": "markdown",
   "id": "171fe9a6-44a5-4ebd-ba33-85791d3171ce",
   "metadata": {},
   "source": [
    "# Data Science Tools and EcoSystem\n",
    "In this notebook, Data Science Tools and Ecosystem are summarized."
   ]
  },
  {
   "cell_type": "markdown",
   "id": "c28ecb0f-1517-4db3-93fe-0aa4e9eea966",
   "metadata": {},
   "source": [
    "Some of the popular languages that Data Scientists use are:\n",
    "1. Python\n",
    "2. R\n",
    "3. Julia\n",
    "4. Scala\n",
    "5. Java"
   ]
  },
  {
   "cell_type": "markdown",
   "id": "84a5d4cb-b32f-4e11-9440-9f1cfc4eb3eb",
   "metadata": {},
   "source": [
    "Some of the commonly used libraries used by Data Scientists include:\n",
    "1. NumPy\n",
    "2. Pandas\n",
    "3. Matplotlib\n",
    "4. SciPy\n",
    "5. Seaborn"
   ]
  },
  {
   "cell_type": "markdown",
   "id": "78cb6055-27db-47cc-8b4b-1965150760d9",
   "metadata": {},
   "source": [
    "| Data Science Tools |\n",
    "| ------------------ |\n",
    "| Jupyter Notebooks |\n",
    "| RStudio |\n",
    "| Apache Spark |"
   ]
  },
  {
   "cell_type": "markdown",
   "id": "a06760ee-9fce-4cd6-9c99-93cd8eebacb1",
   "metadata": {},
   "source": [
    "### Below are a few examples of evaluating arithmetic expressions in Python"
   ]
  },
  {
   "cell_type": "code",
   "execution_count": 7,
   "id": "25aa07e1-e96e-45af-8b0b-ef5a2319ffd1",
   "metadata": {},
   "outputs": [
    {
     "data": {
      "text/plain": [
       "17"
      ]
     },
     "execution_count": 7,
     "metadata": {},
     "output_type": "execute_result"
    }
   ],
   "source": [
    "#This a simple arithmetic expression to mutiply then add integers.\n",
    "(3*4)+5"
   ]
  },
  {
   "cell_type": "code",
   "execution_count": 8,
   "id": "aba8cda1-b9c4-4e5c-b873-2236e7b9ad3d",
   "metadata": {},
   "outputs": [
    {
     "data": {
      "text/plain": [
       "3.3333333333333335"
      ]
     },
     "execution_count": 8,
     "metadata": {},
     "output_type": "execute_result"
    }
   ],
   "source": [
    "# This will convert 200 minutes to hours by diving by 60\n",
    "200/60"
   ]
  },
  {
   "cell_type": "markdown",
   "id": "6e8eda11-4250-49f8-90f3-199487cdb500",
   "metadata": {},
   "source": [
    "**Objective:**\n",
    "List popular languages for Data Science:\n",
    "* Python\n",
    "* R\n",
    "* Julia\n",
    "* Scala\n",
    "* Java"
   ]
  },
  {
   "cell_type": "markdown",
   "id": "76e680a6-3f14-4adb-ac42-265436a23a6d",
   "metadata": {},
   "source": [
    "## Author\n",
    "Muthupandi"
   ]
  }
 ],
 "metadata": {
  "kernelspec": {
   "display_name": "Python 3 (ipykernel)",
   "language": "python",
   "name": "python3"
  },
  "language_info": {
   "codemirror_mode": {
    "name": "ipython",
    "version": 3
   },
   "file_extension": ".py",
   "mimetype": "text/x-python",
   "name": "python",
   "nbconvert_exporter": "python",
   "pygments_lexer": "ipython3",
   "version": "3.12.2"
  }
 },
 "nbformat": 4,
 "nbformat_minor": 5
}
